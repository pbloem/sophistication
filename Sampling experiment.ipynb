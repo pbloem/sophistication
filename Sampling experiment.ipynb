{
 "cells": [
  {
   "cell_type": "code",
   "execution_count": 1,
   "metadata": {
    "collapsed": false
   },
   "outputs": [
    {
     "name": "stderr",
     "output_type": "stream",
     "text": [
      "Using TensorFlow backend.\n"
     ]
    }
   ],
   "source": [
    "import keras.backend as K\n",
    "from keras.models import Sequential, Model\n",
    "from keras.layers import Dense, Activation, Conv2D, MaxPool2D, Dropout, Flatten, Input\n",
    "from keras.layers import Reshape, UpSampling2D\n",
    "import powerlaw\n",
    "\n",
    "import math, random\n",
    "import numpy as np\n",
    "import matplotlib.pyplot as plt\n",
    "%matplotlib inline\n",
    "\n",
    "pwl = powerlaw.Power_Law(xmin=1, discrete=True, parameters=[1.9])"
   ]
  },
  {
   "cell_type": "code",
   "execution_count": 2,
   "metadata": {
    "collapsed": false
   },
   "outputs": [],
   "source": [
    "def py(d = 0.1):\n",
    "    \"\"\"Something akin to a Pitman-Yor process\"\"\"\n",
    "    members = []\n",
    "    \n",
    "    while True:\n",
    "        if len(members) < 1 or random.random() < d:\n",
    "            draw = random.normalvariate(0, 1.0)\n",
    "        else:\n",
    "            draw = random.choice(members)\n",
    "            \n",
    "        yield draw\n",
    "        members.append(draw)\n",
    "\n",
    "gen = py(0.01)\n",
    "\n",
    "def py_init(shape, dtype=None):\n",
    "    \"\"\"Custom weight initializer for Keras\"\"\" \n",
    "    arr = np.fromfunction(lambda *args: args[0]*0.0 + next(gen), shape=shape)\n",
    "    return arr\n",
    "#     return K.random_normal(shape, dtype=dtype)"
   ]
  },
  {
   "cell_type": "code",
   "execution_count": 3,
   "metadata": {
    "collapsed": false
   },
   "outputs": [
    {
     "name": "stdout",
     "output_type": "stream",
     "text": [
      "input_dim\t 1\n",
      "num_channels\t 1\n",
      "numblocks\t 7\n",
      "blockdepth\t 4\n",
      "kernelsize\t 5\n"
     ]
    }
   ],
   "source": [
    "# Sample a model\n",
    "\n",
    "# number of blocks of k convolutions and \n",
    "input_dim = int(pwl.generate_random()[0])\n",
    "print('input_dim\\t', input_dim)\n",
    "\n",
    "num_channels = int(pwl.generate_random()[0])\n",
    "print('num_channels\\t', num_channels)\n",
    "\n",
    "numblocks = random.randint(1,13) # this should be unbounded for a proper model class\n",
    "print('numblocks\\t', numblocks)\n",
    "\n",
    "blockdepth = random.randint(1,7)\n",
    "print('blockdepth\\t', blockdepth)\n",
    "\n",
    "kernelsize = random.randint(1,10)\n",
    "print('kernelsize\\t', kernelsize)\n",
    "\n"
   ]
  },
  {
   "cell_type": "code",
   "execution_count": 4,
   "metadata": {
    "collapsed": false
   },
   "outputs": [
    {
     "name": "stdout",
     "output_type": "stream",
     "text": [
      "_________________________________________________________________\n",
      "Layer (type)                 Output Shape              Param #   \n",
      "=================================================================\n",
      "input_1 (InputLayer)         (None, 1)                 0         \n",
      "_________________________________________________________________\n",
      "dense_1 (Dense)              (None, 256)               512       \n",
      "_________________________________________________________________\n",
      "reshape_1 (Reshape)          (None, 4, 4, 16)          0         \n",
      "_________________________________________________________________\n",
      "conv2d_1 (Conv2D)            (None, 4, 4, 1)           401       \n",
      "_________________________________________________________________\n",
      "conv2d_2 (Conv2D)            (None, 4, 4, 1)           26        \n",
      "_________________________________________________________________\n",
      "conv2d_3 (Conv2D)            (None, 4, 4, 1)           26        \n",
      "_________________________________________________________________\n",
      "conv2d_4 (Conv2D)            (None, 4, 4, 1)           26        \n",
      "_________________________________________________________________\n",
      "up_sampling2d_1 (UpSampling2 (None, 8, 8, 1)           0         \n",
      "_________________________________________________________________\n",
      "conv2d_5 (Conv2D)            (None, 8, 8, 1)           26        \n",
      "_________________________________________________________________\n",
      "conv2d_6 (Conv2D)            (None, 8, 8, 1)           26        \n",
      "_________________________________________________________________\n",
      "conv2d_7 (Conv2D)            (None, 8, 8, 1)           26        \n",
      "_________________________________________________________________\n",
      "conv2d_8 (Conv2D)            (None, 8, 8, 1)           26        \n",
      "_________________________________________________________________\n",
      "up_sampling2d_2 (UpSampling2 (None, 16, 16, 1)         0         \n",
      "_________________________________________________________________\n",
      "conv2d_9 (Conv2D)            (None, 16, 16, 1)         26        \n",
      "_________________________________________________________________\n",
      "conv2d_10 (Conv2D)           (None, 16, 16, 1)         26        \n",
      "_________________________________________________________________\n",
      "conv2d_11 (Conv2D)           (None, 16, 16, 1)         26        \n",
      "_________________________________________________________________\n",
      "conv2d_12 (Conv2D)           (None, 16, 16, 1)         26        \n",
      "_________________________________________________________________\n",
      "up_sampling2d_3 (UpSampling2 (None, 32, 32, 1)         0         \n",
      "_________________________________________________________________\n",
      "conv2d_13 (Conv2D)           (None, 32, 32, 1)         26        \n",
      "_________________________________________________________________\n",
      "conv2d_14 (Conv2D)           (None, 32, 32, 1)         26        \n",
      "_________________________________________________________________\n",
      "conv2d_15 (Conv2D)           (None, 32, 32, 1)         26        \n",
      "_________________________________________________________________\n",
      "conv2d_16 (Conv2D)           (None, 32, 32, 1)         26        \n",
      "_________________________________________________________________\n",
      "up_sampling2d_4 (UpSampling2 (None, 64, 64, 1)         0         \n",
      "_________________________________________________________________\n",
      "conv2d_17 (Conv2D)           (None, 64, 64, 1)         26        \n",
      "_________________________________________________________________\n",
      "conv2d_18 (Conv2D)           (None, 64, 64, 1)         26        \n",
      "_________________________________________________________________\n",
      "conv2d_19 (Conv2D)           (None, 64, 64, 1)         26        \n",
      "_________________________________________________________________\n",
      "conv2d_20 (Conv2D)           (None, 64, 64, 1)         26        \n",
      "_________________________________________________________________\n",
      "up_sampling2d_5 (UpSampling2 (None, 128, 128, 1)       0         \n",
      "_________________________________________________________________\n",
      "conv2d_21 (Conv2D)           (None, 128, 128, 1)       26        \n",
      "_________________________________________________________________\n",
      "conv2d_22 (Conv2D)           (None, 128, 128, 1)       26        \n",
      "_________________________________________________________________\n",
      "conv2d_23 (Conv2D)           (None, 128, 128, 1)       26        \n",
      "_________________________________________________________________\n",
      "conv2d_24 (Conv2D)           (None, 128, 128, 1)       26        \n",
      "_________________________________________________________________\n",
      "up_sampling2d_6 (UpSampling2 (None, 256, 256, 1)       0         \n",
      "_________________________________________________________________\n",
      "conv2d_25 (Conv2D)           (None, 256, 256, 1)       26        \n",
      "_________________________________________________________________\n",
      "conv2d_26 (Conv2D)           (None, 256, 256, 1)       26        \n",
      "_________________________________________________________________\n",
      "conv2d_27 (Conv2D)           (None, 256, 256, 1)       26        \n",
      "_________________________________________________________________\n",
      "conv2d_28 (Conv2D)           (None, 256, 256, 1)       26        \n",
      "_________________________________________________________________\n",
      "up_sampling2d_7 (UpSampling2 (None, 512, 512, 1)       0         \n",
      "_________________________________________________________________\n",
      "conv2d_29 (Conv2D)           (None, 512, 512, 3)       51        \n",
      "=================================================================\n",
      "Total params: 1,666\n",
      "Trainable params: 1,666\n",
      "Non-trainable params: 0\n",
      "_________________________________________________________________\n"
     ]
    }
   ],
   "source": [
    "# Reset the PY weight generator\n",
    "# gen=py(0.2)\n",
    "\n",
    "encoded = Input(shape=(input_dim,))\n",
    "\n",
    "x = Dense(256, activation='relu')(encoded)\n",
    "x = Reshape((4,4,16))(x)\n",
    "\n",
    "for n in range(numblocks):\n",
    "    for b in range(blockdepth):\n",
    "        x = Conv2D(num_channels, (kernelsize, kernelsize), activation='relu', padding='same', kernel_initializer=py_init)(x)\n",
    "        \n",
    "    x = UpSampling2D((2, 2))(x)\n",
    "        \n",
    "decoded = Conv2D(3, (4, 4), activation='sigmoid', padding='same')(x)\n",
    "\n",
    "decoder = Model(encoded, decoded)\n",
    "\n",
    "decoder.summary()"
   ]
  },
  {
   "cell_type": "code",
   "execution_count": 5,
   "metadata": {
    "collapsed": false
   },
   "outputs": [
    {
     "data": {
      "image/png": "[encoded data removed]",
      "text/plain": [
       "<matplotlib.figure.Figure at 0x129f51b00>"
      ]
     },
     "metadata": {},
     "output_type": "display_data"
    }
   ],
   "source": [
    "n = 30\n",
    "\n",
    "z = np.random.randn(n, input_dim)\n",
    "y = decoder.predict(z)\n",
    "\n",
    "fig = plt.figure(figsize=(15, 18))\n",
    "# plot several images\n",
    "for i in range(n):\n",
    "    ax = fig.add_subplot(6, 5, i + 1, xticks=[], yticks=[])\n",
    "    ax.imshow(y[i,...], cmap=plt.cm.gray)\n",
    "    \n",
    "plt.savefig('random-images-2.pdf')"
   ]
  },
  {
   "cell_type": "code",
   "execution_count": null,
   "metadata": {
    "collapsed": true
   },
   "outputs": [],
   "source": []
  }
 ],
 "metadata": {
  "kernelspec": {
   "display_name": "Python 3",
   "language": "python",
   "name": "python3"
  },
  "language_info": {
   "codemirror_mode": {
    "name": "ipython",
    "version": 3
   },
   "file_extension": ".py",
   "mimetype": "text/x-python",
   "name": "python",
   "nbconvert_exporter": "python",
   "pygments_lexer": "ipython3",
   "version": "3.5.1"
  }
 },
 "nbformat": 4,
 "nbformat_minor": 0
}
